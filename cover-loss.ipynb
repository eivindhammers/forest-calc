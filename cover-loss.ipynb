{
 "cells": [
  {
   "cell_type": "raw",
   "id": "544ab081-1e04-40b7-94cd-b0f7918c1438",
   "metadata": {},
   "source": [
    "---\n",
    "title: \"matplotlib demo\"\n",
    "format:\n",
    "  html:\n",
    "    code-fold: true\n",
    "jupyter: python3\n",
    "---"
   ]
  },
  {
   "cell_type": "code",
   "execution_count": null,
   "id": "1eae68b1-b093-4938-954d-3b4c329c7a69",
   "metadata": {},
   "outputs": [],
   "source": [
    "import ee\n",
    "import utils.ee_utils as tc\n",
    "\n",
    "# Authenticate Earth Engine (only once per computer)\n",
    "#ee.Authenticate()\n",
    "\n",
    "# Initialize Earth Engine\n",
    "ee.Initialize()\n"
   ]
  },
  {
   "cell_type": "markdown",
   "id": "8414f4f9-74b0-4272-89a7-29f6e4bae11b",
   "metadata": {},
   "source": [
    "# Calculating tree cover loss\n",
    "This notebook demonstrates how you can calculate yearly tree cover loss using the Google Earth Engine API for Python on data  "
   ]
  },
  {
   "cell_type": "code",
   "execution_count": null,
   "id": "b991bc61-c817-4d82-ae4c-4d6f4db02430",
   "metadata": {},
   "outputs": [],
   "source": [
    "tc.tree_cover_loss('French Guiana', 2001, 2022, 40, 1e9)"
   ]
  }
 ],
 "metadata": {
  "kernelspec": {
   "display_name": "Python [conda env:forest_calc]",
   "language": "python",
   "name": "conda-env-forest_calc-py"
  },
  "language_info": {
   "codemirror_mode": {
    "name": "ipython",
    "version": 3
   },
   "file_extension": ".py",
   "mimetype": "text/x-python",
   "name": "python",
   "nbconvert_exporter": "python",
   "pygments_lexer": "ipython3",
   "version": "3.9.16"
  }
 },
 "nbformat": 4,
 "nbformat_minor": 5
}
