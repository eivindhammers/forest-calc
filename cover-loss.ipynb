{
 "cells": [
  {
   "cell_type": "raw",
   "id": "544ab081-1e04-40b7-94cd-b0f7918c1438",
   "metadata": {},
   "source": [
    "---\n",
    "title: \"Calculating tree cover loss\"\n",
    "format:\n",
    "  html:\n",
    "    code-fold: true\n",
    "jupyter: python3\n",
    "---"
   ]
  },
  {
   "cell_type": "code",
   "execution_count": null,
   "id": "1eae68b1-b093-4938-954d-3b4c329c7a69",
   "metadata": {},
   "outputs": [],
   "source": [
    "import ee\n",
    "import utils.ee_utils as tc\n",
    "\n",
    "# Authenticate Earth Engine (only once per computer)\n",
    "#ee.Authenticate()\n",
    "\n",
    "# Initialize Earth Engine\n",
    "ee.Initialize()\n"
   ]
  },
  {
   "cell_type": "markdown",
   "id": "8414f4f9-74b0-4272-89a7-29f6e4bae11b",
   "metadata": {},
   "source": [
    "# Calculating tree cover loss\n",
    "This notebook demonstrates how you can calculate yearly tree cover loss using the Google Earth Engine API for Python on the Hansen Global Forest Change data.[^1] I have written a custom function that uses a connection to Earth Engine to calculate forest loss for a given country over a given time period, and outputs the results as a bar chart. The function `tree_cover_loss()` takes five arguments: `country`, `yearFrom`, `yearTo`, `scale` and `maxPixels`. The first three are self-explanatory, whereas the latter two requires some explanation. `scale` \n",
    "\n",
    "[^1]: Hansen, M. C., P. V. Potapov, R. Moore, M. Hancher, S. A. Turubanova, A. Tyukavina, D. Thau, S. V. Stehman, S. J. Goetz, T. R. Loveland, A. Kommareddy, A. Egorov, L. Chini, C. O. Justice, and J. R. G. Townshend. 2013. \"High-Resolution Global Maps of 21st-Century Forest Cover Change.\" Science 342 (15 November): 850-53. 10.1126/science.1244693 Data available on-line at: https://glad.earthengine.app/view/global-forest-change."
   ]
  },
  {
   "cell_type": "code",
   "execution_count": null,
   "id": "b991bc61-c817-4d82-ae4c-4d6f4db02430",
   "metadata": {},
   "outputs": [],
   "source": [
    "tc.forest_loss('Equatorial Guinea', 2001, 2022, scale=30, maxPixels=1e9, bestEffort=True)"
   ]
  },
  {
   "cell_type": "code",
   "execution_count": null,
   "id": "b0cda3e9-f15a-4566-a6a1-7ec46679f7af",
   "metadata": {},
   "outputs": [],
   "source": [
    "tc.forest_map('Equatorial Guinea', 2022)"
   ]
  },
  {
   "cell_type": "code",
   "execution_count": null,
   "id": "9fed28b0-7da6-4fc3-8c38-cf9ac3dce27b",
   "metadata": {},
   "outputs": [],
   "source": []
  }
 ],
 "metadata": {
  "kernelspec": {
   "display_name": "forest_calc",
   "language": "python",
   "name": "forest_calc"
  },
  "language_info": {
   "codemirror_mode": {
    "name": "ipython",
    "version": 3
   },
   "file_extension": ".py",
   "mimetype": "text/x-python",
   "name": "python",
   "nbconvert_exporter": "python",
   "pygments_lexer": "ipython3",
   "version": "3.10.6"
  }
 },
 "nbformat": 4,
 "nbformat_minor": 5
}
