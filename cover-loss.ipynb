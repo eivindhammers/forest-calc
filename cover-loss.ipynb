{
 "cells": [
  {
   "cell_type": "code",
   "execution_count": 153,
   "id": "1eae68b1-b093-4938-954d-3b4c329c7a69",
   "metadata": {},
   "outputs": [
    {
     "data": {
      "text/plain": [
       "<module 'utils.ee_utils' from '/home/emh/GitHub/forest-calc/utils/ee_utils.py'>"
      ]
     },
     "execution_count": 153,
     "metadata": {},
     "output_type": "execute_result"
    }
   ],
   "source": [
    "import ee\n",
    "import utils.ee_utils as tc\n",
    "import importlib\n",
    "\n",
    "# Authenticate Earth Engine (only once per computer)\n",
    "#ee.Authenticate()\n",
    "\n",
    "# Initialize Earth Engine\n",
    "ee.Initialize()\n"
   ]
  },
  {
   "cell_type": "code",
   "execution_count": null,
   "id": "dc6109fe-db9c-485f-966f-c3f9bb56b0d8",
   "metadata": {},
   "outputs": [],
   "source": [
    "tc.tree_cover_loss('French Guiana', 2001, 2022, 40, 1e9)"
   ]
  },
  {
   "cell_type": "code",
   "execution_count": null,
   "id": "4460876f-dee2-444b-81c4-3b9dc910a37c",
   "metadata": {},
   "outputs": [],
   "source": []
  },
  {
   "cell_type": "code",
   "execution_count": null,
   "id": "c6e01a14-6514-4bda-91e4-bd18a209f5a8",
   "metadata": {},
   "outputs": [],
   "source": []
  }
 ],
 "metadata": {
  "kernelspec": {
   "display_name": "Python [conda env:forest_calc]",
   "language": "python",
   "name": "conda-env-forest_calc-py"
  },
  "language_info": {
   "codemirror_mode": {
    "name": "ipython",
    "version": 3
   },
   "file_extension": ".py",
   "mimetype": "text/x-python",
   "name": "python",
   "nbconvert_exporter": "python",
   "pygments_lexer": "ipython3",
   "version": "3.9.16"
  }
 },
 "nbformat": 4,
 "nbformat_minor": 5
}
